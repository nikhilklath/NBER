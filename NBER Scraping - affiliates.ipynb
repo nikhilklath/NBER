{
 "cells": [
  {
   "cell_type": "markdown",
   "metadata": {},
   "source": [
    "## Purpose - To scrape data on NBER affiliates"
   ]
  },
  {
   "cell_type": "markdown",
   "metadata": {},
   "source": [
    "### Import Packages"
   ]
  },
  {
   "cell_type": "code",
   "execution_count": 74,
   "metadata": {},
   "outputs": [],
   "source": [
    "import pandas as pd \n",
    "import os \n",
    "import numpy as np \n",
    "import re\n",
    "import string\n",
    "from urllib.request import urlopen\n",
    "from bs4 import BeautifulSoup\n",
    "import requests\n",
    "from selenium import webdriver\n",
    "import math\n",
    "from selenium.common.exceptions import NoSuchElementException"
   ]
  },
  {
   "cell_type": "code",
   "execution_count": 75,
   "metadata": {},
   "outputs": [
    {
     "name": "stderr",
     "output_type": "stream",
     "text": [
      "C:\\Users\\nik596\\AppData\\Roaming\\Python\\Python37\\site-packages\\ipykernel_launcher.py:2: DeprecationWarning: executable_path has been deprecated, please pass in a Service object\n",
      "  \n"
     ]
    }
   ],
   "source": [
    "EXE_PATH = r\"C:\\Users\\nik596\\Downloads\\chromedriver_win32\\chromedriver.exe\"\n",
    "browser = webdriver.Chrome(executable_path=EXE_PATH)"
   ]
  },
  {
   "cell_type": "code",
   "execution_count": 76,
   "metadata": {},
   "outputs": [],
   "source": [
    "base = \"https://www.nber.org\""
   ]
  },
  {
   "cell_type": "code",
   "execution_count": 77,
   "metadata": {},
   "outputs": [],
   "source": [
    "html1 = urlopen(base + \"/affiliated-scholars?page=1&perPage=100&sortBy=alpha\")\n",
    "soup1 = BeautifulSoup(html1, 'lxml')"
   ]
  },
  {
   "cell_type": "code",
   "execution_count": 78,
   "metadata": {},
   "outputs": [],
   "source": [
    "browser.get(base + \"/affiliated-scholars?page=1&perPage=100&sortBy=alpha\")\n",
    "browser.implicitly_wait(10)"
   ]
  },
  {
   "cell_type": "code",
   "execution_count": 79,
   "metadata": {},
   "outputs": [],
   "source": [
    "dic = {}\n",
    "count = 0\n",
    "html2 = browser.page_source\n",
    "soup2 = BeautifulSoup(html2, 'lxml')\n",
    "num_pages = int(soup2.find('button', class_ = 'btn btn--pager').text)\n",
    "i = 1\n",
    "while i <= num_pages:\n",
    "    page_link = base + \"/affiliated-scholars?page={}&perPage=100&sortBy=alpha\".format(str(i))\n",
    "    browser.get(page_link)\n",
    "    browser.implicitly_wait(10)\n",
    "    html2 = browser.page_source\n",
    "    soup2 = BeautifulSoup(html2, 'lxml')\n",
    "    temp = soup2\n",
    "    while temp == soup2:\n",
    "        temp = soup2\n",
    "        html2 = browser.page_source\n",
    "        soup2 = BeautifulSoup(html2, 'lxml')\n",
    "    links = soup2.findAll('a')\n",
    "    for link in links:\n",
    "        person_link = link.get('href')\n",
    "        if person_link is None:\n",
    "            continue\n",
    "        if 'people' in person_link:\n",
    "            name = link.text.split(\",\")[0]\n",
    "            affil = link.text.split(\",\")[1]\n",
    "            dic[count] = {\"Name\": name, \"Affiliation\": affil}\n",
    "            count+=1\n",
    "    i+=1"
   ]
  },
  {
   "cell_type": "code",
   "execution_count": 80,
   "metadata": {},
   "outputs": [],
   "source": [
    "df=pd.DataFrame.from_dict(dic).T\n",
    "df.to_excel(r'C:\\Users\\nik596\\Documents\\GitHub\\NBER\\NBER_affiliates.xlsx',engine='xlsxwriter')"
   ]
  },
  {
   "cell_type": "code",
   "execution_count": 81,
   "metadata": {},
   "outputs": [
    {
     "data": {
      "text/html": [
       "<div>\n",
       "<style scoped>\n",
       "    .dataframe tbody tr th:only-of-type {\n",
       "        vertical-align: middle;\n",
       "    }\n",
       "\n",
       "    .dataframe tbody tr th {\n",
       "        vertical-align: top;\n",
       "    }\n",
       "\n",
       "    .dataframe thead th {\n",
       "        text-align: right;\n",
       "    }\n",
       "</style>\n",
       "<table border=\"1\" class=\"dataframe\">\n",
       "  <thead>\n",
       "    <tr style=\"text-align: right;\">\n",
       "      <th></th>\n",
       "      <th>Name</th>\n",
       "      <th>Affiliation</th>\n",
       "    </tr>\n",
       "  </thead>\n",
       "  <tbody>\n",
       "    <tr>\n",
       "      <th>0</th>\n",
       "      <td>Alberto Abadie</td>\n",
       "      <td>Massachusetts Institute of Technology</td>\n",
       "    </tr>\n",
       "    <tr>\n",
       "      <th>1</th>\n",
       "      <td>Jason Abaluck</td>\n",
       "      <td>Yale University</td>\n",
       "    </tr>\n",
       "    <tr>\n",
       "      <th>2</th>\n",
       "      <td>Atila Abdulkadiroglu</td>\n",
       "      <td>Duke University</td>\n",
       "    </tr>\n",
       "    <tr>\n",
       "      <th>3</th>\n",
       "      <td>Ama B. Abeberese</td>\n",
       "      <td>Wellesley College</td>\n",
       "    </tr>\n",
       "    <tr>\n",
       "      <th>4</th>\n",
       "      <td>Andrew B. Abel</td>\n",
       "      <td>University of Pennsylvania</td>\n",
       "    </tr>\n",
       "    <tr>\n",
       "      <th>...</th>\n",
       "      <td>...</td>\n",
       "      <td>...</td>\n",
       "    </tr>\n",
       "    <tr>\n",
       "      <th>1716</th>\n",
       "      <td>Eric Zitzewitz</td>\n",
       "      <td>Dartmouth College</td>\n",
       "    </tr>\n",
       "    <tr>\n",
       "      <th>1717</th>\n",
       "      <td>Eric Zou</td>\n",
       "      <td>University of Oregon</td>\n",
       "    </tr>\n",
       "    <tr>\n",
       "      <th>1718</th>\n",
       "      <td>Sarah Zubairy</td>\n",
       "      <td>Texas A&amp;M University</td>\n",
       "    </tr>\n",
       "    <tr>\n",
       "      <th>1719</th>\n",
       "      <td>Gabriel Zucman</td>\n",
       "      <td>University of California</td>\n",
       "    </tr>\n",
       "    <tr>\n",
       "      <th>1720</th>\n",
       "      <td>Eric Zwick</td>\n",
       "      <td>University of Chicago</td>\n",
       "    </tr>\n",
       "  </tbody>\n",
       "</table>\n",
       "<p>1721 rows × 2 columns</p>\n",
       "</div>"
      ],
      "text/plain": [
       "                      Name                             Affiliation\n",
       "0           Alberto Abadie   Massachusetts Institute of Technology\n",
       "1            Jason Abaluck                         Yale University\n",
       "2     Atila Abdulkadiroglu                         Duke University\n",
       "3         Ama B. Abeberese                       Wellesley College\n",
       "4           Andrew B. Abel              University of Pennsylvania\n",
       "...                    ...                                     ...\n",
       "1716        Eric Zitzewitz                       Dartmouth College\n",
       "1717              Eric Zou                    University of Oregon\n",
       "1718         Sarah Zubairy                    Texas A&M University\n",
       "1719        Gabriel Zucman                University of California\n",
       "1720            Eric Zwick                   University of Chicago\n",
       "\n",
       "[1721 rows x 2 columns]"
      ]
     },
     "execution_count": 81,
     "metadata": {},
     "output_type": "execute_result"
    }
   ],
   "source": [
    "df"
   ]
  },
  {
   "cell_type": "code",
   "execution_count": null,
   "metadata": {},
   "outputs": [],
   "source": []
  }
 ],
 "metadata": {
  "kernelspec": {
   "display_name": "Python 3",
   "language": "python",
   "name": "python3"
  },
  "language_info": {
   "codemirror_mode": {
    "name": "ipython",
    "version": 3
   },
   "file_extension": ".py",
   "mimetype": "text/x-python",
   "name": "python",
   "nbconvert_exporter": "python",
   "pygments_lexer": "ipython3",
   "version": "3.7.8"
  }
 },
 "nbformat": 4,
 "nbformat_minor": 4
}
